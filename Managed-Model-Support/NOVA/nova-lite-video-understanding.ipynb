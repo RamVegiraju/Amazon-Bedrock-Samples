{
 "cells": [
  {
   "cell_type": "markdown",
   "id": "02acafff-25a0-462e-9adc-522eca8d9d3a",
   "metadata": {},
   "source": [
    "# Amazon Nova Lite Video Understanding\n",
    "\n",
    "In this notebook we take a quick look at using Amazon Nova for a sample use-case such as analyzing my boxing sparring footage. Replace the S3 path with your video and system prompts with your own, if you would like to test with your own videos.\n",
    "\n",
    "## Resources/Credits\n",
    "- Documentation: https://docs.aws.amazon.com/nova/latest/userguide/modalities-video-examples.html (I just directly borrowed most of the code from here)"
   ]
  },
  {
   "cell_type": "code",
   "execution_count": null,
   "id": "fe34f72b-0b15-4ffc-8d08-4fddffc911eb",
   "metadata": {},
   "outputs": [],
   "source": [
    "import boto3\n",
    "import json\n",
    "\n",
    "# Create a Bedrock Runtime client in the AWS Region of your choice.\n",
    "client = boto3.client(\n",
    "    \"bedrock-runtime\",\n",
    "    region_name=\"us-east-1\",\n",
    ")\n",
    "\n",
    "MODEL_ID = \"us.amazon.nova-lite-v1:0\"\n",
    "\n",
    "# Define your system prompt(s).\n",
    "system_list = [\n",
    "    {\n",
    "        \"text\": \"You are an expert boxing analyst. Analyze the sparring footage provided and appropriately answer the query provided by the user.\"\n",
    "    }\n",
    "]\n",
    "\n",
    "# Define user input\n",
    "input_prompt = \"This is a round of sparring footage with my coach, for context I'm the one in the full sleeves. Based off of the footage tell me my strengths, weaknesses, where I got caught by him specifically and where I need to be better.\"\n",
    "\n",
    "#S3 Location: Use for larger files, (Recommended for payload greater than 25MB upto 1GB)\n",
    "s3_video_path = \"Enter S3 payload path here\"\n",
    "\n",
    "# Video format, supported formats atm: MP4, MOV, MKV, WebM, FLV, MPEG, MPG, WMV, 3GP\n",
    "vid_format = \"mov\"\n",
    "\n",
    "# Define a \"user\" message including both the image and a text prompt.\n",
    "message_list = [\n",
    "    {\n",
    "        \"role\": \"user\",\n",
    "        \"content\": [\n",
    "            {\n",
    "                \"video\": {\n",
    "                    \"format\": vid_format,\n",
    "                    \"source\": {\n",
    "                        \"s3Location\": {\n",
    "                            \"uri\": s3_video_path\n",
    "                        }\n",
    "                    }\n",
    "                }\n",
    "            },\n",
    "            {\n",
    "                \"text\": input_prompt\n",
    "            }\n",
    "        ]\n",
    "    }\n",
    "]\n",
    "\n",
    "# Inference parameters\n",
    "inf_params = {\"maxTokens\": 500, \"topP\": 0.1, \"topK\": 20, \"temperature\": 0.3}\n",
    "\n",
    "# Shape payload\n",
    "request = {\n",
    "    \"schemaVersion\": \"messages-v1\",\n",
    "    \"messages\": message_list,\n",
    "    \"system\": system_list,\n",
    "    \"inferenceConfig\": inf_params,\n",
    "}"
   ]
  },
  {
   "cell_type": "code",
   "execution_count": null,
   "id": "924fc29c-053a-47f0-8882-c6ca98092437",
   "metadata": {},
   "outputs": [],
   "source": [
    "response = client.invoke_model(modelId=MODEL_ID, body=json.dumps(request))\n",
    "model_response = json.loads(response[\"body\"].read())\n",
    "\n",
    "# Parse output text\n",
    "content_text = model_response[\"output\"][\"message\"][\"content\"][0][\"text\"]\n",
    "print(\"\\n[Response Content Text]\")\n",
    "print(content_text)"
   ]
  }
 ],
 "metadata": {
  "kernelspec": {
   "display_name": "conda_python3",
   "language": "python",
   "name": "conda_python3"
  },
  "language_info": {
   "codemirror_mode": {
    "name": "ipython",
    "version": 3
   },
   "file_extension": ".py",
   "mimetype": "text/x-python",
   "name": "python",
   "nbconvert_exporter": "python",
   "pygments_lexer": "ipython3",
   "version": "3.10.16"
  }
 },
 "nbformat": 4,
 "nbformat_minor": 5
}
